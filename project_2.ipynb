{
 "cells": [
  {
   "cell_type": "code",
   "execution_count": 1,
   "id": "522b234c",
   "metadata": {},
   "outputs": [],
   "source": [
    "#Load the libraries\n",
    "import os \n",
    "import geopandas as gpd\n",
    "import pandas as pd\n",
    "import numpy as np\n",
    "import matplotlib.pyplot as plt\n",
    "from sklearn.model_selection import train_test_split\n",
    "from sklearn.linear_model import LogisticRegression\n",
    "from sklearn import metrics\n",
    "from sklearn.naive_bayes import GaussianNB\n",
    "from sklearn.neighbors import KNeighborsRegressor\n",
    "from sklearn.neighbors import KNeighborsClassifier\n",
    "from sklearn.metrics import accuracy_score\n",
    "from sklearn.metrics import confusion_matrix\n",
    "import warnings\n",
    "warnings.filterwarnings('ignore')"
   ]
  },
  {
   "cell_type": "code",
   "execution_count": 2,
   "id": "0cf541a3",
   "metadata": {},
   "outputs": [],
   "source": [
    "#Set the working directory\n",
    "path = \"C:/Users/keyur/Downloads\"\n",
    "os.chdir(path)"
   ]
  },
  {
   "cell_type": "code",
   "execution_count": 3,
   "id": "27d9a0da",
   "metadata": {},
   "outputs": [
    {
     "data": {
      "text/html": [
       "<div>\n",
       "<style scoped>\n",
       "    .dataframe tbody tr th:only-of-type {\n",
       "        vertical-align: middle;\n",
       "    }\n",
       "\n",
       "    .dataframe tbody tr th {\n",
       "        vertical-align: top;\n",
       "    }\n",
       "\n",
       "    .dataframe thead th {\n",
       "        text-align: right;\n",
       "    }\n",
       "</style>\n",
       "<table border=\"1\" class=\"dataframe\">\n",
       "  <thead>\n",
       "    <tr style=\"text-align: right;\">\n",
       "      <th></th>\n",
       "      <th>StateWellNumber</th>\n",
       "      <th>ParameterDescription_x</th>\n",
       "      <th>TOTAL DISSOLVED SOLIDS</th>\n",
       "      <th>wkt_geom</th>\n",
       "      <th>County</th>\n",
       "      <th>AquiferCode</th>\n",
       "      <th>WellDepth</th>\n",
       "      <th>Date</th>\n",
       "      <th>Time</th>\n",
       "      <th>SampleNumber</th>\n",
       "      <th>EntityId</th>\n",
       "      <th>LabId</th>\n",
       "      <th>ReliabilityId</th>\n",
       "      <th>CollectionRemarks</th>\n",
       "      <th>LatitudeDD</th>\n",
       "      <th>LongitudeDD</th>\n",
       "      <th>ParameterCode</th>\n",
       "      <th>ParameterDescription_y</th>\n",
       "      <th>ARSENIC</th>\n",
       "      <th>ParameterUnit</th>\n",
       "    </tr>\n",
       "  </thead>\n",
       "  <tbody>\n",
       "    <tr>\n",
       "      <th>0</th>\n",
       "      <td>1204617</td>\n",
       "      <td>TOTAL DISSOLVED SOLIDS , SUM OF CONSTITUENTS (...</td>\n",
       "      <td>1.296</td>\n",
       "      <td>Point (-100.51444499999999493 34.9202780000000...</td>\n",
       "      <td>Collingsworth</td>\n",
       "      <td>110ALVM</td>\n",
       "      <td>228</td>\n",
       "      <td>5/7/2010</td>\n",
       "      <td>815</td>\n",
       "      <td>True</td>\n",
       "      <td>1</td>\n",
       "      <td>23</td>\n",
       "      <td>7</td>\n",
       "      <td>Analysis Balanced. Lab Calculated Anion/Cation...</td>\n",
       "      <td>34.920278</td>\n",
       "      <td>-100.514445</td>\n",
       "      <td>1000</td>\n",
       "      <td>ARSENIC, DISSOLVED (UG/L AS AS)</td>\n",
       "      <td>4.40</td>\n",
       "      <td>ug/L</td>\n",
       "    </tr>\n",
       "    <tr>\n",
       "      <th>1</th>\n",
       "      <td>1205911</td>\n",
       "      <td>TOTAL DISSOLVED SOLIDS , SUM OF CONSTITUENTS (...</td>\n",
       "      <td>0.399</td>\n",
       "      <td>Point (-100.39722220000000164 34.9033332999999...</td>\n",
       "      <td>Collingsworth</td>\n",
       "      <td>110ALVM</td>\n",
       "      <td>90</td>\n",
       "      <td>7/29/2015</td>\n",
       "      <td>1615</td>\n",
       "      <td>True</td>\n",
       "      <td>1</td>\n",
       "      <td>24</td>\n",
       "      <td>7</td>\n",
       "      <td>Analysis Unbalanced.</td>\n",
       "      <td>34.903333</td>\n",
       "      <td>-100.397222</td>\n",
       "      <td>1000</td>\n",
       "      <td>ARSENIC, DISSOLVED (UG/L AS AS)</td>\n",
       "      <td>2.00</td>\n",
       "      <td>ug/L</td>\n",
       "    </tr>\n",
       "    <tr>\n",
       "      <th>2</th>\n",
       "      <td>1206707</td>\n",
       "      <td>TOTAL DISSOLVED SOLIDS , SUM OF CONSTITUENTS (...</td>\n",
       "      <td>0.787</td>\n",
       "      <td>Point (-100.33416699999999366 34.8933340000000...</td>\n",
       "      <td>Collingsworth</td>\n",
       "      <td>110ALVP</td>\n",
       "      <td>110</td>\n",
       "      <td>7/25/2006</td>\n",
       "      <td>1712</td>\n",
       "      <td>True</td>\n",
       "      <td>1</td>\n",
       "      <td>24</td>\n",
       "      <td>7</td>\n",
       "      <td>Analysis Balanced. Lab Calculated Anion/Cation...</td>\n",
       "      <td>34.893334</td>\n",
       "      <td>-100.334167</td>\n",
       "      <td>1000</td>\n",
       "      <td>ARSENIC, DISSOLVED (UG/L AS AS)</td>\n",
       "      <td>4.10</td>\n",
       "      <td>ug/L</td>\n",
       "    </tr>\n",
       "    <tr>\n",
       "      <th>3</th>\n",
       "      <td>1206918</td>\n",
       "      <td>TOTAL DISSOLVED SOLIDS , SUM OF CONSTITUENTS (...</td>\n",
       "      <td>0.498</td>\n",
       "      <td>Point (-100.28694439999999588 34.8900000000000...</td>\n",
       "      <td>Collingsworth</td>\n",
       "      <td>110ATSB</td>\n",
       "      <td>0</td>\n",
       "      <td>7/29/2015</td>\n",
       "      <td>1720</td>\n",
       "      <td>True</td>\n",
       "      <td>1</td>\n",
       "      <td>23</td>\n",
       "      <td>7</td>\n",
       "      <td>Analysis Balanced. Lab Calculated Anion/Cation...</td>\n",
       "      <td>34.890000</td>\n",
       "      <td>-100.286944</td>\n",
       "      <td>1000</td>\n",
       "      <td>ARSENIC, DISSOLVED (UG/L AS AS)</td>\n",
       "      <td>2.31</td>\n",
       "      <td>ug/L</td>\n",
       "    </tr>\n",
       "    <tr>\n",
       "      <th>4</th>\n",
       "      <td>1215111</td>\n",
       "      <td>TOTAL DISSOLVED SOLIDS , SUM OF CONSTITUENTS (...</td>\n",
       "      <td>0.743</td>\n",
       "      <td>Point (-100.23416699999999935 34.8513889999999...</td>\n",
       "      <td>Collingsworth</td>\n",
       "      <td>110ALVM</td>\n",
       "      <td>120</td>\n",
       "      <td>5/5/2010</td>\n",
       "      <td>1245</td>\n",
       "      <td>True</td>\n",
       "      <td>1</td>\n",
       "      <td>23</td>\n",
       "      <td>7</td>\n",
       "      <td>Analysis Balanced. Lab Calculated Anion/Cation...</td>\n",
       "      <td>34.851389</td>\n",
       "      <td>-100.234167</td>\n",
       "      <td>1000</td>\n",
       "      <td>ARSENIC, DISSOLVED (UG/L AS AS)</td>\n",
       "      <td>5.00</td>\n",
       "      <td>ug/L</td>\n",
       "    </tr>\n",
       "  </tbody>\n",
       "</table>\n",
       "</div>"
      ],
      "text/plain": [
       "   StateWellNumber                             ParameterDescription_x  \\\n",
       "0          1204617  TOTAL DISSOLVED SOLIDS , SUM OF CONSTITUENTS (...   \n",
       "1          1205911  TOTAL DISSOLVED SOLIDS , SUM OF CONSTITUENTS (...   \n",
       "2          1206707  TOTAL DISSOLVED SOLIDS , SUM OF CONSTITUENTS (...   \n",
       "3          1206918  TOTAL DISSOLVED SOLIDS , SUM OF CONSTITUENTS (...   \n",
       "4          1215111  TOTAL DISSOLVED SOLIDS , SUM OF CONSTITUENTS (...   \n",
       "\n",
       "   TOTAL DISSOLVED SOLIDS                                           wkt_geom  \\\n",
       "0                   1.296  Point (-100.51444499999999493 34.9202780000000...   \n",
       "1                   0.399  Point (-100.39722220000000164 34.9033332999999...   \n",
       "2                   0.787  Point (-100.33416699999999366 34.8933340000000...   \n",
       "3                   0.498  Point (-100.28694439999999588 34.8900000000000...   \n",
       "4                   0.743  Point (-100.23416699999999935 34.8513889999999...   \n",
       "\n",
       "          County AquiferCode  WellDepth       Date  Time  SampleNumber  \\\n",
       "0  Collingsworth     110ALVM        228   5/7/2010   815          True   \n",
       "1  Collingsworth     110ALVM         90  7/29/2015  1615          True   \n",
       "2  Collingsworth     110ALVP        110  7/25/2006  1712          True   \n",
       "3  Collingsworth     110ATSB          0  7/29/2015  1720          True   \n",
       "4  Collingsworth     110ALVM        120   5/5/2010  1245          True   \n",
       "\n",
       "   EntityId  LabId  ReliabilityId  \\\n",
       "0         1     23              7   \n",
       "1         1     24              7   \n",
       "2         1     24              7   \n",
       "3         1     23              7   \n",
       "4         1     23              7   \n",
       "\n",
       "                                   CollectionRemarks  LatitudeDD  LongitudeDD  \\\n",
       "0  Analysis Balanced. Lab Calculated Anion/Cation...   34.920278  -100.514445   \n",
       "1                               Analysis Unbalanced.   34.903333  -100.397222   \n",
       "2  Analysis Balanced. Lab Calculated Anion/Cation...   34.893334  -100.334167   \n",
       "3  Analysis Balanced. Lab Calculated Anion/Cation...   34.890000  -100.286944   \n",
       "4  Analysis Balanced. Lab Calculated Anion/Cation...   34.851389  -100.234167   \n",
       "\n",
       "   ParameterCode           ParameterDescription_y  ARSENIC ParameterUnit  \n",
       "0           1000  ARSENIC, DISSOLVED (UG/L AS AS)     4.40          ug/L  \n",
       "1           1000  ARSENIC, DISSOLVED (UG/L AS AS)     2.00          ug/L  \n",
       "2           1000  ARSENIC, DISSOLVED (UG/L AS AS)     4.10          ug/L  \n",
       "3           1000  ARSENIC, DISSOLVED (UG/L AS AS)     2.31          ug/L  \n",
       "4           1000  ARSENIC, DISSOLVED (UG/L AS AS)     5.00          ug/L  "
      ]
     },
     "execution_count": 3,
     "metadata": {},
     "output_type": "execute_result"
    }
   ],
   "source": [
    "# Load data into a Pandas DataFrame\n",
    "well_data = pd.read_csv('well_data.csv')\n",
    "well_data.head()"
   ]
  },
  {
   "cell_type": "code",
   "execution_count": 4,
   "id": "6ce0f7ff",
   "metadata": {},
   "outputs": [],
   "source": [
    "# create new column Exceedance and set values based on condition\n",
    "well_data['Exceedance'] = well_data['ARSENIC'].apply(lambda x: 1 if x >= 3 else 0) #Use thresold of 3 "
   ]
  },
  {
   "cell_type": "code",
   "execution_count": 5,
   "id": "b5339555",
   "metadata": {},
   "outputs": [],
   "source": [
    "# Set the dependent variable (Arsenic--exceeding the limit or not)\n",
    "y = well_data['Exceedance']"
   ]
  },
  {
   "cell_type": "code",
   "execution_count": 7,
   "id": "99585e57",
   "metadata": {},
   "outputs": [],
   "source": [
    "# Select the independent variables\n",
    "X = well_data[['TOTAL DISSOLVED SOLIDS','WellDepth']]"
   ]
  },
  {
   "cell_type": "code",
   "execution_count": 8,
   "id": "0971326c",
   "metadata": {},
   "outputs": [],
   "source": [
    "# Split the data into training and testing sets\n",
    "X_train, X_test, y_train, y_test = train_test_split(X, y, test_size=0.3)"
   ]
  },
  {
   "cell_type": "code",
   "execution_count": 9,
   "id": "85836046",
   "metadata": {
    "scrolled": true
   },
   "outputs": [],
   "source": [
    "# Fit the Logistic Regression model\n",
    "lr_model = LogisticRegression()\n",
    "lr_model.fit(X_train, y_train)\n",
    "lr_preds = lr_model.predict(X_test)"
   ]
  },
  {
   "cell_type": "code",
   "execution_count": 10,
   "id": "2c94a9c5",
   "metadata": {
    "scrolled": true
   },
   "outputs": [
    {
     "name": "stdout",
     "output_type": "stream",
     "text": [
      "LR Model Accuracy: 0.6190476190476191\n",
      "Logistic Regression Model Confusion Matrix:\n",
      " [[10  2]\n",
      " [ 6  3]]\n"
     ]
    }
   ],
   "source": [
    "# Test the model on the test set & check for accuracy and confusion matrix\n",
    "lr_accuracy = lr_model.score(X_test, y_test) \n",
    "lr_cmatrix = confusion_matrix(y_test, lr_preds) \n",
    "print('LR Model Accuracy:', lr_accuracy)\n",
    "print(\"Logistic Regression Model Confusion Matrix:\\n\", lr_cmatrix)"
   ]
  },
  {
   "cell_type": "code",
   "execution_count": 11,
   "id": "5a3cd77f",
   "metadata": {},
   "outputs": [],
   "source": [
    "# Fit the NBC model\n",
    "nbc_model = GaussianNB()\n",
    "nbc_model.fit(X_train, y_train)\n",
    "nbc_preds = nbc_model.predict(X_test)"
   ]
  },
  {
   "cell_type": "code",
   "execution_count": 12,
   "id": "19cdfaf9",
   "metadata": {
    "scrolled": true
   },
   "outputs": [
    {
     "name": "stdout",
     "output_type": "stream",
     "text": [
      "NBC Model Accuracy: 0.7619047619047619\n",
      "Naive Bayes Model Confusion Matrix:\n",
      " [[12  0]\n",
      " [ 5  4]]\n"
     ]
    }
   ],
   "source": [
    "# Test the model on the test set & check for accuracy and confusion matrix\n",
    "nbc_accuracy = nbc_model.score(X_test, y_test)\n",
    "nb_cmatrix = confusion_matrix(y_test, nbc_preds)\n",
    "print('NBC Model Accuracy:', nbc_accuracy)\n",
    "print(\"Naive Bayes Model Confusion Matrix:\\n\", nb_cmatrix)"
   ]
  },
  {
   "cell_type": "code",
   "execution_count": 13,
   "id": "9e564b4b",
   "metadata": {},
   "outputs": [],
   "source": [
    "# Create a grid of uniformly spaced points over the domain of the aquifer\n",
    "x = np.linspace(min(X['TOTAL DISSOLVED SOLIDS']), max(X['TOTAL DISSOLVED SOLIDS']), 50)\n",
    "y = np.linspace(min(X['WellDepth']), max(X['WellDepth']), 50)\n",
    "xx, yy = np.meshgrid(x, y)\n",
    "xy = np.vstack([xx.ravel(), yy.ravel()]).T"
   ]
  },
  {
   "cell_type": "code",
   "execution_count": 14,
   "id": "63780b6a",
   "metadata": {
    "scrolled": true
   },
   "outputs": [],
   "source": [
    "# Use the LR and NBC models to predict vulnerability at each point in the grid\n",
    "lr_pred = lr_model.predict(xy)\n",
    "nbc_pred = nbc_model.predict(xy)"
   ]
  },
  {
   "cell_type": "markdown",
   "id": "cab85335",
   "metadata": {},
   "source": [
    "To be continued..."
   ]
  }
 ],
 "metadata": {
  "kernelspec": {
   "display_name": "Python 3 (ipykernel)",
   "language": "python",
   "name": "python3"
  },
  "language_info": {
   "codemirror_mode": {
    "name": "ipython",
    "version": 3
   },
   "file_extension": ".py",
   "mimetype": "text/x-python",
   "name": "python",
   "nbconvert_exporter": "python",
   "pygments_lexer": "ipython3",
   "version": "3.9.16"
  }
 },
 "nbformat": 4,
 "nbformat_minor": 5
}
